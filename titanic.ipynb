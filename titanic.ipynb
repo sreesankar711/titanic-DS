{
 "cells": [
  {
   "attachments": {},
   "cell_type": "markdown",
   "id": "d0353136",
   "metadata": {},
   "source": [
    "**LIBRAIES TO BE IMPORTED**"
   ]
  },
  {
   "cell_type": "code",
   "execution_count": 653,
   "id": "0fe602a8",
   "metadata": {},
   "outputs": [],
   "source": [
    "import pandas as pd\n",
    "import matplotlib.pyplot as plt\n",
    "import seaborn as sns\n",
    "from sklearn.preprocessing import StandardScaler\n",
    "from sklearn.model_selection import train_test_split\n",
    "from sklearn.linear_model import LogisticRegression\n",
    "from sklearn.neural_network import MLPClassifier\n",
    "from sklearn.metrics import confusion_matrix, precision_score, recall_score, f1_score, accuracy_score"
   ]
  },
  {
   "attachments": {},
   "cell_type": "markdown",
   "id": "1d8da1bc",
   "metadata": {},
   "source": [
    "##### Read CSV file & display information on the dataframe."
   ]
  },
  {
   "cell_type": "code",
   "execution_count": 654,
   "id": "776da109",
   "metadata": {},
   "outputs": [
    {
     "name": "stdout",
     "output_type": "stream",
     "text": [
      "<class 'pandas.core.frame.DataFrame'>\n",
      "RangeIndex: 891 entries, 0 to 890\n",
      "Data columns (total 12 columns):\n",
      " #   Column       Non-Null Count  Dtype  \n",
      "---  ------       --------------  -----  \n",
      " 0   PassengerId  891 non-null    int64  \n",
      " 1   Survived     891 non-null    int64  \n",
      " 2   Pclass       891 non-null    int64  \n",
      " 3   Name         891 non-null    object \n",
      " 4   Sex          891 non-null    object \n",
      " 5   Age          714 non-null    float64\n",
      " 6   SibSp        891 non-null    int64  \n",
      " 7   Parch        891 non-null    int64  \n",
      " 8   Ticket       891 non-null    object \n",
      " 9   Fare         891 non-null    float64\n",
      " 10  Cabin        204 non-null    object \n",
      " 11  Embarked     889 non-null    object \n",
      "dtypes: float64(2), int64(5), object(5)\n",
      "memory usage: 83.7+ KB\n"
     ]
    }
   ],
   "source": [
    "data = pd.read_csv('titanic.csv')\n",
    "data.info()"
   ]
  },
  {
   "attachments": {},
   "cell_type": "markdown",
   "id": "048593f6",
   "metadata": {},
   "source": [
    "##### Display first 10 rows of the data."
   ]
  },
  {
   "cell_type": "code",
   "execution_count": 655,
   "id": "5bf64125",
   "metadata": {},
   "outputs": [
    {
     "name": "stdout",
     "output_type": "stream",
     "text": [
      "   PassengerId  Survived  Pclass  \\\n",
      "0            1         0       3   \n",
      "1            2         1       1   \n",
      "2            3         1       3   \n",
      "3            4         1       1   \n",
      "4            5         0       3   \n",
      "5            6         0       3   \n",
      "6            7         0       1   \n",
      "7            8         0       3   \n",
      "8            9         1       3   \n",
      "9           10         1       2   \n",
      "\n",
      "                                                Name     Sex   Age  SibSp  \\\n",
      "0                            Braund, Mr. Owen Harris    male  22.0      1   \n",
      "1  Cumings, Mrs. John Bradley (Florence Briggs Th...  female  38.0      1   \n",
      "2                             Heikkinen, Miss. Laina  female  26.0      0   \n",
      "3       Futrelle, Mrs. Jacques Heath (Lily May Peel)  female  35.0      1   \n",
      "4                           Allen, Mr. William Henry    male  35.0      0   \n",
      "5                                   Moran, Mr. James    male   NaN      0   \n",
      "6                            McCarthy, Mr. Timothy J    male  54.0      0   \n",
      "7                     Palsson, Master. Gosta Leonard    male   2.0      3   \n",
      "8  Johnson, Mrs. Oscar W (Elisabeth Vilhelmina Berg)  female  27.0      0   \n",
      "9                Nasser, Mrs. Nicholas (Adele Achem)  female  14.0      1   \n",
      "\n",
      "   Parch            Ticket     Fare Cabin Embarked  \n",
      "0      0         A/5 21171   7.2500   NaN        S  \n",
      "1      0          PC 17599  71.2833   C85        C  \n",
      "2      0  STON/O2. 3101282   7.9250   NaN        S  \n",
      "3      0            113803  53.1000  C123        S  \n",
      "4      0            373450   8.0500   NaN        S  \n",
      "5      0            330877   8.4583   NaN        Q  \n",
      "6      0             17463  51.8625   E46        S  \n",
      "7      1            349909  21.0750   NaN        S  \n",
      "8      2            347742  11.1333   NaN        S  \n",
      "9      0            237736  30.0708   NaN        C  \n"
     ]
    }
   ],
   "source": [
    "print(data.head(10))"
   ]
  },
  {
   "attachments": {},
   "cell_type": "markdown",
   "id": "ff7663e8",
   "metadata": {},
   "source": [
    "##### Display first 5 rows of the data having the given columns only.\n",
    "**‘PassengerID’, ‘Name’, ‘Age’, ‘Sex’**"
   ]
  },
  {
   "cell_type": "code",
   "execution_count": 656,
   "id": "2cbf0390",
   "metadata": {},
   "outputs": [
    {
     "name": "stdout",
     "output_type": "stream",
     "text": [
      "   PassengerId                                               Name   Age  \\\n",
      "0            1                            Braund, Mr. Owen Harris  22.0   \n",
      "1            2  Cumings, Mrs. John Bradley (Florence Briggs Th...  38.0   \n",
      "2            3                             Heikkinen, Miss. Laina  26.0   \n",
      "3            4       Futrelle, Mrs. Jacques Heath (Lily May Peel)  35.0   \n",
      "4            5                           Allen, Mr. William Henry  35.0   \n",
      "\n",
      "      Sex  \n",
      "0    male  \n",
      "1  female  \n",
      "2  female  \n",
      "3  female  \n",
      "4    male  \n"
     ]
    }
   ],
   "source": [
    "print(data[['PassengerId', 'Name', 'Age', 'Sex']].head(5))"
   ]
  },
  {
   "attachments": {},
   "cell_type": "markdown",
   "id": "b776e503",
   "metadata": {},
   "source": [
    "##### Plot the count of survived passengers."
   ]
  },
  {
   "cell_type": "code",
   "execution_count": 657,
   "id": "e88df2c8",
   "metadata": {},
   "outputs": [
    {
     "data": {
      "image/png": "[encoded data removed]",
      "text/plain": [
       "<Figure size 640x480 with 1 Axes>"
      ]
     },
     "metadata": {},
     "output_type": "display_data"
    }
   ],
   "source": [
    "sns.countplot(x='Survived', data=data)\n",
    "plt.title('Survival Count')\n",
    "plt.xlabel('Survived')\n",
    "plt.ylabel('Count')\n",
    "plt.show()"
   ]
  },
  {
   "attachments": {},
   "cell_type": "markdown",
   "id": "91992f0e",
   "metadata": {},
   "source": [
    "##### Plot histogram of ‘Age’ column"
   ]
  },
  {
   "cell_type": "code",
   "execution_count": 658,
   "id": "73b04ed4",
   "metadata": {},
   "outputs": [
    {
     "data": {
      "image/png": "[encoded data removed]",
      "text/plain": [
       "<Figure size 640x480 with 1 Axes>"
      ]
     },
     "metadata": {},
     "output_type": "display_data"
    }
   ],
   "source": [
    "sns.histplot(x='Age', data=data, bins=20)\n",
    "plt.title('Age Distribution')\n",
    "plt.xlabel('Age')\n",
    "plt.ylabel('Count')\n",
    "plt.show()"
   ]
  },
  {
   "attachments": {},
   "cell_type": "markdown",
   "id": "2b4ada64",
   "metadata": {},
   "source": [
    "##### Drop the following unnecessary columns.\n",
    "**‘PassengerID’,’Name’, ‘Ticket’, ‘Cabin’, ‘Embarked’**"
   ]
  },
  {
   "cell_type": "code",
   "execution_count": 659,
   "id": "d4709a11",
   "metadata": {},
   "outputs": [
    {
     "name": "stdout",
     "output_type": "stream",
     "text": [
      "   Survived  Pclass     Sex   Age  SibSp  Parch     Fare\n",
      "0         0       3    male  22.0      1      0   7.2500\n",
      "1         1       1  female  38.0      1      0  71.2833\n",
      "2         1       3  female  26.0      0      0   7.9250\n",
      "3         1       1  female  35.0      1      0  53.1000\n",
      "4         0       3    male  35.0      0      0   8.0500\n"
     ]
    }
   ],
   "source": [
    "data.drop(['PassengerId', 'Name', 'Ticket', 'Cabin', 'Embarked'], axis=1, inplace=True)\n",
    "print(data.head(5))"
   ]
  },
  {
   "attachments": {},
   "cell_type": "markdown",
   "id": "3592833f",
   "metadata": {},
   "source": [
    "##### How many ‘NaN’ entries in ‘Age’ column? Replace all ‘NaN’ values in the ‘Age’ column with mean value of the ‘Age’ column vector. (Mean value replacement is a popular choice. It will not make a considerable damage to the data distribution in the column vector!). Please round off the mean value to two decimals."
   ]
  },
  {
   "cell_type": "code",
   "execution_count": 660,
   "id": "0854e624",
   "metadata": {},
   "outputs": [
    {
     "name": "stdout",
     "output_type": "stream",
     "text": [
      "Number of NaN entries in 'Age' column: 177\n",
      "Mean age: 29.7\n"
     ]
    },
    {
     "data": {
      "image/png": "[encoded data removed]",
      "text/plain": [
       "<Figure size 640x480 with 1 Axes>"
      ]
     },
     "metadata": {},
     "output_type": "display_data"
    }
   ],
   "source": [
    "age_nan = data['Age'].isnull().squeeze()\n",
    "sns.heatmap(data = age_nan.to_frame(), yticklabels=False, cbar=False, cmap='binary')\n",
    "nan_count = age_nan.sum()\n",
    "print(\"Number of NaN entries in 'Age' column:\", nan_count)\n",
    "\n",
    "mean_age = round(data['Age'].mean(), 2)\n",
    "print(\"Mean age:\", mean_age)\n",
    "data['Age'].fillna(mean_age, inplace=True)"
   ]
  },
  {
   "attachments": {},
   "cell_type": "markdown",
   "id": "065f05ef",
   "metadata": {},
   "source": [
    "##### The entries in ‘Sex’ column are ‘Male’ or ‘Female’. ‘Pclass’ can have ‘1st’, ‘2nd’, or ‘3rd’. We should convert them to numerical values. The result has two separate column for ‘Female’ and ‘Male’. It is obvious that the ‘0’ value in ‘Female’ column means ‘1’ in Male and vice versa (based on the given data). So, we need any one column only in the preprocessed dataset.3 ‘Pclass’ category and hence, we need any two columns in the results."
   ]
  },
  {
   "cell_type": "code",
   "execution_count": 661,
   "id": "ffbe292d",
   "metadata": {},
   "outputs": [],
   "source": [
    "sex = pd.get_dummies(data['Sex'], drop_first=True)\n",
    "pclass = pd.get_dummies(data['Pclass'], drop_first=True)"
   ]
  },
  {
   "attachments": {},
   "cell_type": "markdown",
   "id": "82c056c0",
   "metadata": {},
   "source": [
    "##### Concatenate the results of ‘Sex’ and ‘Pclass’ from previous step to get the following pre-processed dataset."
   ]
  },
  {
   "cell_type": "code",
   "execution_count": 662,
   "id": "5ea6bb87",
   "metadata": {},
   "outputs": [],
   "source": [
    "data = pd.concat([data, sex, pclass], axis=1)"
   ]
  },
  {
   "attachments": {},
   "cell_type": "markdown",
   "id": "c83b42d1",
   "metadata": {},
   "source": [
    "##### Next, drop ‘Pclass’ and ‘Sex’ from the data frame to obtain the following:"
   ]
  },
  {
   "cell_type": "code",
   "execution_count": 663,
   "id": "c9c86494",
   "metadata": {},
   "outputs": [],
   "source": [
    "data.drop(['Pclass', 'Sex'], axis=1, inplace=True)"
   ]
  },
  {
   "attachments": {},
   "cell_type": "markdown",
   "id": "db506a34",
   "metadata": {},
   "source": [
    "##### We can rename the column names as shown below (for onvenience):"
   ]
  },
  {
   "cell_type": "code",
   "execution_count": 664,
   "id": "70f31c66",
   "metadata": {},
   "outputs": [
    {
     "name": "stdout",
     "output_type": "stream",
     "text": [
      "   Survived   Age  SibSp  Parch     Fare  sex  pclass_2  pclass_3\n",
      "0         0  22.0      1      0   7.2500    1         0         1\n",
      "1         1  38.0      1      0  71.2833    0         0         0\n",
      "2         1  26.0      0      0   7.9250    0         0         1\n",
      "3         1  35.0      1      0  53.1000    0         0         0\n",
      "4         0  35.0      0      0   8.0500    1         0         1\n"
     ]
    }
   ],
   "source": [
    "data.rename(columns={'male': 'sex', 2: 'pclass_2', 3: 'pclass_3'}, inplace=True)\n",
    "print(data.head(5))"
   ]
  },
  {
   "attachments": {},
   "cell_type": "markdown",
   "id": "b853895b",
   "metadata": {},
   "source": [
    "##### Make a ratio of 30% and 70% for test and train dataset."
   ]
  },
  {
   "cell_type": "code",
   "execution_count": 665,
   "id": "79bb1b99",
   "metadata": {},
   "outputs": [],
   "source": [
    "features = data[['Age', 'SibSp', 'Parch', 'Fare', 'sex', 'pclass_2','pclass_3']]\n",
    "\n",
    "train_data, test_data, train_labels, test_labels = train_test_split(features, data['Survived'], test_size=0.3, random_state=42)"
   ]
  },
  {
   "cell_type": "code",
   "execution_count": 666,
   "id": "276a75bf",
   "metadata": {},
   "outputs": [],
   "source": [
    "scaler = StandardScaler()\n",
    "train_data = scaler.fit_transform(train_data)\n",
    "test_data = scaler.transform(test_data)"
   ]
  },
  {
   "attachments": {},
   "cell_type": "markdown",
   "id": "6ec751a8",
   "metadata": {},
   "source": [
    "#### Apply the following models:\n",
    "**(a) Logistic regression**"
   ]
  },
  {
   "cell_type": "code",
   "execution_count": 667,
   "id": "e3ce150c",
   "metadata": {},
   "outputs": [
    {
     "name": "stdout",
     "output_type": "stream",
     "text": [
      "Logistic Regression Accuracy: 0.8097014925373134\n"
     ]
    }
   ],
   "source": [
    "logmodel = LogisticRegression()\n",
    "logmodel.fit(train_data, train_labels)\n",
    "log_predictions = logmodel.predict(test_data)\n",
    "log_accuracy = (log_predictions == test_labels).sum() / test_labels.shape[0]\n",
    "\n",
    "print(\"Logistic Regression Accuracy:\", log_accuracy)"
   ]
  },
  {
   "attachments": {},
   "cell_type": "markdown",
   "id": "42ed4bd4",
   "metadata": {},
   "source": [
    "**(i) Plot confusion matrix.\n",
    "(ii) Find Precision, Recall, F1score, and Accuracy.**"
   ]
  },
  {
   "cell_type": "code",
   "execution_count": 668,
   "id": "f1cf336d",
   "metadata": {},
   "outputs": [
    {
     "data": {
      "image/png": "[encoded data removed]",
      "text/plain": [
       "<Figure size 640x480 with 1 Axes>"
      ]
     },
     "metadata": {},
     "output_type": "display_data"
    },
    {
     "name": "stdout",
     "output_type": "stream",
     "text": [
      "Precision: 0.8125\n",
      "Recall: 0.7027027027027027\n",
      "F1 Score: 0.7536231884057971\n",
      "Accuracy: 0.8097014925373134\n"
     ]
    }
   ],
   "source": [
    "cm = confusion_matrix(test_labels, log_predictions)\n",
    "\n",
    "sns.heatmap(cm, annot=True, cmap='Blues', fmt='g', cbar=False)\n",
    "plt.title('Confusion Matrix')\n",
    "plt.xlabel('Predicted Label')\n",
    "plt.ylabel('True Label')\n",
    "plt.show()\n",
    "\n",
    "precision = precision_score(test_labels, log_predictions)\n",
    "recall = recall_score(test_labels, log_predictions)\n",
    "f1 = f1_score(test_labels, log_predictions)\n",
    "accuracy = accuracy_score(test_labels, log_predictions)\n",
    "\n",
    "print('Precision:', precision)\n",
    "print('Recall:', recall)\n",
    "print('F1 Score:', f1)\n",
    "print('Accuracy:', accuracy)"
   ]
  },
  {
   "attachments": {},
   "cell_type": "markdown",
   "id": "b2214512",
   "metadata": {},
   "source": [
    "**(b) Neural Networks classifier**"
   ]
  },
  {
   "cell_type": "code",
   "execution_count": 669,
   "id": "513bdc7a",
   "metadata": {},
   "outputs": [
    {
     "name": "stdout",
     "output_type": "stream",
     "text": [
      "Neural Network Accuracy: 0.8134328358208955\n"
     ]
    }
   ],
   "source": [
    "nn_model = MLPClassifier(hidden_layer_sizes=(100,50), max_iter=1000)\n",
    "nn_model.fit(train_data, train_labels)\n",
    "nn_predictions = nn_model.predict(test_data)\n",
    "\n",
    "nn_accuracy = (nn_predictions == test_labels).sum() / test_labels.shape[0]\n",
    "print(\"Neural Network Accuracy:\", nn_accuracy)"
   ]
  },
  {
   "attachments": {},
   "cell_type": "markdown",
   "id": "8babe433",
   "metadata": {},
   "source": [
    "**(i) Plot confusion matrix.\n",
    "(ii) Find Precision, Recall, F1score, and Accuracy.**"
   ]
  },
  {
   "cell_type": "code",
   "execution_count": 670,
   "id": "78e811bc",
   "metadata": {},
   "outputs": [
    {
     "data": {
      "image/png": "[encoded data removed]",
      "text/plain": [
       "<Figure size 640x480 with 1 Axes>"
      ]
     },
     "metadata": {},
     "output_type": "display_data"
    },
    {
     "name": "stdout",
     "output_type": "stream",
     "text": [
      "Precision: 0.8279569892473119\n",
      "Recall: 0.6936936936936937\n",
      "F1 Score: 0.7549019607843137\n",
      "Accuracy: 0.8134328358208955\n"
     ]
    }
   ],
   "source": [
    "cm = confusion_matrix(test_labels, nn_predictions)\n",
    "\n",
    "\n",
    "sns.heatmap(cm, annot=True, cmap='Blues', fmt='g', cbar=False)\n",
    "plt.title('Confusion Matrix')\n",
    "plt.xlabel('Predicted Label')\n",
    "plt.ylabel('True Label')\n",
    "plt.show()\n",
    "\n",
    "precision = precision_score(test_labels, nn_predictions)\n",
    "recall = recall_score(test_labels, nn_predictions)\n",
    "f1 = f1_score(test_labels, nn_predictions)\n",
    "accuracy = accuracy_score(test_labels, nn_predictions)\n",
    "\n",
    "print('Precision:', precision)\n",
    "print('Recall:', recall)\n",
    "print('F1 Score:', f1)\n",
    "print('Accuracy:', accuracy)"
   ]
  }
 ],
 "metadata": {
  "kernelspec": {
   "display_name": "Python 3 (ipykernel)",
   "language": "python",
   "name": "python3"
  },
  "language_info": {
   "codemirror_mode": {
    "name": "ipython",
    "version": 3
   },
   "file_extension": ".py",
   "mimetype": "text/x-python",
   "name": "python",
   "nbconvert_exporter": "python",
   "pygments_lexer": "ipython3",
   "version": "3.11.1"
  }
 },
 "nbformat": 4,
 "nbformat_minor": 5
}
